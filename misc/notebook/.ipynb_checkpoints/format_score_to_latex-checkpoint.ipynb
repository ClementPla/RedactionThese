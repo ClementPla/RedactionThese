{
 "cells": [
  {
   "cell_type": "code",
   "execution_count": 37,
   "id": "aa98646d-1a32-4dc6-87bf-9c7d6967c367",
   "metadata": {},
   "outputs": [
    {
     "data": {
      "text/plain": [
       "'0.8981\\n0.8693\\n0.8716\\n0.3677\\n0.9163\\n0.9884\\n0.8987\\n0.8714\\n0.9536\\n0.4012\\n0.8611\\n0.9831\\n0.9061\\n0.8749\\n0.9254\\n0.4216\\n0.8929\\n0.9826\\n0.8749\\n0.8937\\n0.9657\\n0.5277\\n0.8129\\n0.9806\\n'"
      ]
     },
     "execution_count": 37,
     "metadata": {},
     "output_type": "execute_result"
    }
   ],
   "source": [
    "import pyperclip\n",
    "s = pyperclip.paste()\n",
    "\n",
    "\n",
    "s"
   ]
  },
  {
   "cell_type": "code",
   "execution_count": 38,
   "id": "2f8a2001-0ffb-472d-a30a-8a2b8cdd6c63",
   "metadata": {},
   "outputs": [],
   "source": [
    "\n",
    "result = \"\"\n",
    "scores = s.split('\\n')\n",
    "for i, s in enumerate(scores):\n",
    "    result += s\n",
    "    if i ==  len(scores)-1:\n",
    "        break\n",
    "    if i % 6 == 0 and i > 0:\n",
    "        result += ' \\\\ '\n",
    "    else:\n",
    "        result += ' & '"
   ]
  },
  {
   "cell_type": "code",
   "execution_count": 39,
   "id": "45d59518-fcf9-40f8-a018-4ca8c6935892",
   "metadata": {},
   "outputs": [
    {
     "data": {
      "text/plain": [
       "'0.8981 & 0.8693 & 0.8716 & 0.3677 & 0.9163 & 0.9884 & 0.8987 \\\\ 0.8714 & 0.9536 & 0.4012 & 0.8611 & 0.9831 & 0.9061 \\\\ 0.8749 & 0.9254 & 0.4216 & 0.8929 & 0.9826 & 0.8749 \\\\ 0.8937 & 0.9657 & 0.5277 & 0.8129 & 0.9806 & '"
      ]
     },
     "execution_count": 39,
     "metadata": {},
     "output_type": "execute_result"
    }
   ],
   "source": [
    "result"
   ]
  },
  {
   "cell_type": "code",
   "execution_count": 36,
   "id": "624833ad-1e5d-4200-a14c-e280bcc4f9b5",
   "metadata": {},
   "outputs": [
    {
     "data": {
      "text/plain": [
       "''"
      ]
     },
     "execution_count": 36,
     "metadata": {},
     "output_type": "execute_result"
    }
   ],
   "source": [
    "s"
   ]
  },
  {
   "cell_type": "code",
   "execution_count": null,
   "id": "0d7efe59-f905-4652-9162-c138204d7f6a",
   "metadata": {},
   "outputs": [],
   "source": []
  }
 ],
 "metadata": {
  "kernelspec": {
   "display_name": "Python 3 (ipykernel)",
   "language": "python",
   "name": "python3"
  },
  "language_info": {
   "codemirror_mode": {
    "name": "ipython",
    "version": 3
   },
   "file_extension": ".py",
   "mimetype": "text/x-python",
   "name": "python",
   "nbconvert_exporter": "python",
   "pygments_lexer": "ipython3",
   "version": "3.10.8"
  }
 },
 "nbformat": 4,
 "nbformat_minor": 5
}
