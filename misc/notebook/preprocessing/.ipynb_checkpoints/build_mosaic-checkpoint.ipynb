{
 "cells": [
  {
   "cell_type": "code",
   "execution_count": 1,
   "id": "1773c552-9595-4ea6-bb26-7baf2fd2ef90",
   "metadata": {},
   "outputs": [],
   "source": [
    "import cv2\n",
    "import numpy as np\n",
    "import os"
   ]
  },
  {
   "cell_type": "code",
   "execution_count": 16,
   "id": "83cd4a5e-4c44-48ae-b1d3-24c6d80adb8f",
   "metadata": {},
   "outputs": [
    {
     "data": {
      "text/plain": [
       "True"
      ]
     },
     "execution_count": 16,
     "metadata": {},
     "output_type": "execute_result"
    }
   ],
   "source": [
    "files = ['IDRID.png', 'MESSIDOR.png', 'DDR.png', 'RETINAL_LESIONS.png', 'FGADR.png']\n",
    "\n",
    "imgs = [cv2.resize(cv2.imread(f), (0,0), fx=0.5, fy=0.5) for f in files]\n",
    "img_shape = imgs[0].shape\n",
    "imgs = [img[:img_shape[0]//3] for img in imgs]\n",
    "\n",
    "imgs = [np.pad(img, ((0, 5), (0,0), (0,0)), constant_values=127) for img in imgs]\n",
    "stack = np.vstack(imgs)\n",
    "\n",
    "cv2.imwrite('preprocessing_stack.png', stack)"
   ]
  },
  {
   "cell_type": "code",
   "execution_count": 13,
   "id": "077d18e8-3658-4b23-8eaf-e3448fcfe493",
   "metadata": {},
   "outputs": [
    {
     "data": {
      "text/plain": [
       "(3915, 1536, 3)"
      ]
     },
     "execution_count": 13,
     "metadata": {},
     "output_type": "execute_result"
    }
   ],
   "source": []
  },
  {
   "cell_type": "code",
   "execution_count": null,
   "id": "3e6ee55c-4cc1-4ee4-a48b-6d75bea98e6b",
   "metadata": {},
   "outputs": [],
   "source": []
  }
 ],
 "metadata": {
  "kernelspec": {
   "display_name": "Python 3 (ipykernel)",
   "language": "python",
   "name": "python3"
  },
  "language_info": {
   "codemirror_mode": {
    "name": "ipython",
    "version": 3
   },
   "file_extension": ".py",
   "mimetype": "text/x-python",
   "name": "python",
   "nbconvert_exporter": "python",
   "pygments_lexer": "ipython3",
   "version": "3.10.8"
  }
 },
 "nbformat": 4,
 "nbformat_minor": 5
}
