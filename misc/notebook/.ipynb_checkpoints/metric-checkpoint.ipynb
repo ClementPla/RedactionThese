{
 "cells": [
  {
   "cell_type": "code",
   "execution_count": 18,
   "id": "d5975cf8-fa06-4aed-86ee-d0aecd941923",
   "metadata": {},
   "outputs": [
    {
     "name": "stdout",
     "output_type": "stream",
     "text": [
      "P/P+N: 0.0\n",
      "PP/PN: 1.0\n",
      "Sensitivity nan\n",
      "Specificity 0.5\n",
      "Precision 0.0\n",
      "Accuracy 0.5\n",
      "F1 0.5\n",
      "*************************\n",
      "P/P+N: 0.5\n",
      "PP/PN: 1.0\n",
      "Sensitivity 1.0\n",
      "Specificity 1.0\n",
      "Precision 1.0\n",
      "Accuracy 1.0\n",
      "F1 1.0\n",
      "*************************\n",
      "P/P+N: 0.3333333333333333\n",
      "PP/PN: 1.0\n",
      "Sensitivity 0.5\n",
      "Specificity 0.5\n",
      "Precision 0.3333333333333333\n",
      "Accuracy 0.5\n",
      "F1 0.5\n",
      "*************************\n",
      "P/P+N: 0.0\n",
      "PP/PN: 1.0\n",
      "Sensitivity nan\n",
      "Specificity 0.5\n",
      "Precision 0.0\n",
      "Accuracy 0.5\n",
      "F1 0.5\n"
     ]
    },
    {
     "name": "stderr",
     "output_type": "stream",
     "text": [
      "/tmp/ipykernel_8587/1995719755.py:3: RuntimeWarning: invalid value encountered in long_scalars\n",
      "  sensitivity = lambda x:x['TP']/x['P']\n"
     ]
    }
   ],
   "source": [
    "import numpy as np\n",
    "\n",
    "sensitivity = lambda x:x['TP']/x['P']\n",
    "specificity = lambda x:x['TN']/x['N']\n",
    "precision = lambda x:x['TP']/(x['TP']+x['FP'])\n",
    "accuracy = lambda x:(x['TP']+x['TN'])/(x['P']+x['N'])\n",
    "f1 = lambda x:(2*x['TP'])/(2*x['TP']+x['FP']+x['FN'])\n",
    "\n",
    "def stats_from_confmat(confMat):\n",
    "    stats = {'TP':confMat[0,0],\n",
    "            'TN':confMat[1,1], \n",
    "            'FP':confMat[1,0],\n",
    "            'FN':confMat[0,1],\n",
    "            'P':confMat[0,0]+confMat[0,1],\n",
    "            'N':confMat[1,0]+confMat[1,1]}\n",
    "    return stats\n",
    "\n",
    "\n",
    "def display_stats(confmat):\n",
    "    stats = stats_from_confmat(confmat)\n",
    "    print(f\"P/P+N: {stats['P']/(stats['P']+stats['N'])}\")\n",
    "    PP = stats['TP'] + stats['FP']\n",
    "    PN = stats['FN'] + stats['TN']\n",
    "    print(f'PP/PN: {PP/PN}')\n",
    "    print(f'Sensitivity {sensitivity(stats)}')\n",
    "    print(f'Specificity {specificity(stats)}')\n",
    "    print(f'Precision {precision(stats)}')\n",
    "    print(f'Accuracy {accuracy(stats)}')\n",
    "    print(f'F1 {accuracy(stats)}')\n",
    "\n",
    "\n",
    "\n",
    "c = np.asarray([0, 0, 100, 100]).reshape(2,2)\n",
    "display_stats(c)\n",
    "print(25*'*')\n",
    "c = np.asarray([100, 0, 0, 100]).reshape(2,2)\n",
    "display_stats(c)\n",
    "print(25*'*')\n",
    "c = np.asarray([50, 50, 50, 50]).reshape(2,2)\n",
    "display_stats(c)\n",
    "print(25*'*')\n",
    "c = np.asarray([0, 0, 100, 100]).reshape(2,2)\n",
    "display_stats(c)\n",
    "\n"
   ]
  },
  {
   "cell_type": "code",
   "execution_count": null,
   "id": "8a5e6aa8-92b4-4275-99ec-27ebecc9ee1e",
   "metadata": {},
   "outputs": [],
   "source": []
  }
 ],
 "metadata": {
  "kernelspec": {
   "display_name": "Python 3 (ipykernel)",
   "language": "python",
   "name": "python3"
  },
  "language_info": {
   "codemirror_mode": {
    "name": "ipython",
    "version": 3
   },
   "file_extension": ".py",
   "mimetype": "text/x-python",
   "name": "python",
   "nbconvert_exporter": "python",
   "pygments_lexer": "ipython3",
   "version": "3.10.8"
  }
 },
 "nbformat": 4,
 "nbformat_minor": 5
}
